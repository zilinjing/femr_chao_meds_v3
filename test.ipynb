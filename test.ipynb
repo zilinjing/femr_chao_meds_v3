{
 "cells": [
  {
   "cell_type": "code",
   "execution_count": null,
   "id": "0b7a0097",
   "metadata": {},
   "outputs": [
    {
     "ename": "SyntaxError",
     "evalue": "invalid syntax (2907333058.py, line 1)",
     "output_type": "error",
     "traceback": [
      "  \u001b[36mCell\u001b[39m\u001b[36m \u001b[39m\u001b[32mIn[1]\u001b[39m\u001b[32m, line 1\u001b[39m\n\u001b[31m    \u001b[39m\u001b[31mpython - <<'PY'\u001b[39m\n             ^\n\u001b[31mSyntaxError\u001b[39m\u001b[31m:\u001b[39m invalid syntax\n"
     ]
    }
   ],
   "source": [
    "# python - <<'PY'\n",
    "# import importlib, sys\n",
    "# def v(pkg):\n",
    "#     try:\n",
    "#         print(f\"{pkg}: \", importlib.import_module(pkg).__version__)\n",
    "#     except ModuleNotFoundError:\n",
    "#         print(f\"{pkg}:  NOT INSTALLED\")\n",
    "# for p in (\"torch\", \"accelerate\"):\n",
    "#     v(p)\n",
    "# PY\n"
   ]
  }
 ],
 "metadata": {
  "kernelspec": {
   "display_name": "motor_chao",
   "language": "python",
   "name": "python3"
  },
  "language_info": {
   "codemirror_mode": {
    "name": "ipython",
    "version": 3
   },
   "file_extension": ".py",
   "mimetype": "text/x-python",
   "name": "python",
   "nbconvert_exporter": "python",
   "pygments_lexer": "ipython3",
   "version": "3.11.0"
  }
 },
 "nbformat": 4,
 "nbformat_minor": 5
}
